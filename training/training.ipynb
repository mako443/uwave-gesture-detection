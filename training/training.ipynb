{
 "cells": [
  {
   "cell_type": "code",
   "execution_count": 1,
   "metadata": {},
   "outputs": [],
   "source": [
    "import sys\n",
    "sys.path.append('../')\n",
    "\n",
    "import os\n",
    "import os.path as osp\n",
    "import numpy as np\n",
    "import pickle\n",
    "\n",
    "from dataloading.imports import GESTURE_NAMES\n",
    "from dataloading.visualize import visualize_samples\n",
    "from dataloading.transform import normalize_vectors, center_scale, integrate_acceleration"
   ]
  },
  {
   "cell_type": "code",
   "execution_count": 22,
   "metadata": {},
   "outputs": [
    {
     "name": "stdout",
     "output_type": "stream",
     "text": [
      "Nan: 0\n"
     ]
    },
    {
     "name": "stderr",
     "output_type": "stream",
     "text": [
      "../dataloading/transform.py:34: RuntimeWarning: invalid value encountered in true_divide\n",
      "  centered_scaled /= np.abs(np.max(centered_scaled, axis=0))\n"
     ]
    }
   ],
   "source": [
    "with open('../data/uwave/uwave.pkl', 'rb') as f:\n",
    "    data = pickle.load(f)\n",
    "data = integrate_acceleration(data)\n",
    "data = center_scale(data, scale_per_axis=True)\n",
    "\n",
    "count = 0\n",
    "for gn in data:\n",
    "    for sample in data[gn]:\n",
    "        count += np.sum(np.isnan(sample))\n",
    "print(f'Nan: {count}')"
   ]
  },
  {
   "cell_type": "code",
   "execution_count": 15,
   "metadata": {},
   "outputs": [],
   "source": [
    "%matplotlib inline\n",
    "\n",
    "name, idx = 'counter-clw', 7\n",
    "num_visualize = 9\n",
    "gestures = [GESTURE_NAMES[idx] for i in range(num_visualize)]\n",
    "indices = np.random.randint(500, size=num_visualize)\n",
    "\n",
    "# visualize_samples([data[gestures[i]][indices[i]] for i in range(num_visualize)], axes=(0, 1), save_path=f'../plots/{name}_IntegScale_01.png', figsize=(8, 8)) \n"
   ]
  },
  {
   "cell_type": "code",
   "execution_count": 23,
   "metadata": {},
   "outputs": [
    {
     "name": "stderr",
     "output_type": "stream",
     "text": [
      "/home/imanox/.local/lib/python3.6/site-packages/numpy/polynomial/polynomial.py:1350: RankWarning: The fit may be poorly conditioned\n",
      "  return pu._fit(polyvander, x, y, deg, rcond, full, w)\n"
     ]
    },
    {
     "name": "stdout",
     "output_type": "stream",
     "text": [
      "(4481, 12) (4481,)\n",
      "(3137, 12) (3137,) (1344, 12) (1344,)\n"
     ]
    }
   ],
   "source": [
    "def polyfit_timeseries(data, deg=3):\n",
    "    data_poly = {gesture_name: [] for gesture_name in data}\n",
    "    for gesture_name in data:\n",
    "        for i_sample, sample in enumerate(data[gesture_name]):\n",
    "            poly = np.polynomial.polynomial.polyfit(np.arange(len(sample)), sample, deg=3)\n",
    "            data_poly[gesture_name].append(poly.T.flatten()) # [x0, x1, x2, x3, y0, y1, y2, y3, z0, z1, z2, z3]\n",
    "\n",
    "    return data_poly\n",
    "\n",
    "def aggregate_data(data):\n",
    "    num_samples = np.sum([len(data[g]) for g in GESTURE_NAMES])\n",
    "    dim = len(data[GESTURE_NAMES[0]][0])\n",
    "    X = np.zeros((num_samples, dim), dtype=np.float)\n",
    "    y = np.zeros(num_samples, dtype=np.int)\n",
    "    \n",
    "    idx = 0\n",
    "    for i_class, gesture_name in enumerate(GESTURE_NAMES):\n",
    "        for sample in data[gesture_name]:\n",
    "            X[idx, :] = sample\n",
    "            y[idx] = i_class\n",
    "            idx += 1\n",
    "\n",
    "    return X, y\n",
    "\n",
    "def normalize_X(X, mean=None, std=None):\n",
    "    if mean is None and std is None:\n",
    "        mean = np.mean(X, axis=0)\n",
    "        std = np.std(X)\n",
    "        \n",
    "    X_normed = (X - mean) / std\n",
    "    return X_normed, mean, std\n",
    "\n",
    "def random_split(X, y, train_fraction=0.7):\n",
    "    assert len(X) == len(y)\n",
    "    test_fraction = 1.0 - train_fraction\n",
    "    indices_test = []\n",
    "    \n",
    "    # Sample the same fraction from each class to prevent (further) imbalance\n",
    "    for i_class in np.unique(y):\n",
    "        possible_indices = np.argwhere(y == i_class).flatten()\n",
    "        selected_indices = np.random.choice(possible_indices, size=int(test_fraction*len(possible_indices)), replace=False) # Select test indices to require less random samples\n",
    "        indices_test.extend(list(selected_indices))\n",
    "\n",
    "    # Get the \"inverse\" indices for training\n",
    "    slice_train = np.ones(len(X), dtype=np.bool)\n",
    "    slice_train[indices_test] = False\n",
    "    \n",
    "    return X[slice_train], y[slice_train], X[indices_test], y[indices_test]\n",
    "\n",
    "\n",
    "data_poly = polyfit_timeseries(data)\n",
    "X, y = aggregate_data(data_poly)\n",
    "print(X.shape, y.shape)\n",
    "\n",
    "X_train, y_train, X_test, y_test = random_split(X, y)\n",
    "print(X_train.shape, y_train.shape, X_test.shape, y_test.shape)"
   ]
  },
  {
   "cell_type": "code",
   "execution_count": 26,
   "metadata": {},
   "outputs": [
    {
     "name": "stderr",
     "output_type": "stream",
     "text": [
      "../dataloading/transform.py:34: RuntimeWarning: invalid value encountered in true_divide\n",
      "  centered_scaled /= np.abs(np.max(centered_scaled, axis=0))\n",
      "/home/imanox/.local/lib/python3.6/site-packages/numpy/polynomial/polynomial.py:1350: RankWarning: The fit may be poorly conditioned\n",
      "  return pu._fit(polyvander, x, y, deg, rcond, full, w)\n"
     ]
    },
    {
     "name": "stdout",
     "output_type": "stream",
     "text": [
      "Acc: 0.69 / 0.70\n"
     ]
    }
   ],
   "source": [
    "'''\n",
    "TODO\n",
    "- integrate 0/1/2\n",
    "- normalize vectors\n",
    "- center&scale\n",
    "- poly degrees\n",
    "- which axes\n",
    "- normalize poly-coefs to zero-mean and unit variance\n",
    "'''\n",
    "\n",
    "from sklearn.linear_model import LogisticRegression\n",
    "\n",
    "with open('../data/uwave/uwave.pkl', 'rb') as f:\n",
    "    data = pickle.load(f)\n",
    "\n",
    "data = integrate_acceleration(data)\n",
    "data = center_scale(data, scale_per_axis=True)  \n",
    "\n",
    "data_poly = polyfit_timeseries(data)\n",
    "\n",
    "X, y = aggregate_data(data_poly)\n",
    "X_train, y_train, X_test, y_test = random_split(X, y)\n",
    "\n",
    "\n",
    "classifier = LogisticRegression(max_iter=1000).fit(X_train, y_train)\n",
    "pred_train = classifier.predict(X_train)\n",
    "pred_test = classifier.predict(X_test)\n",
    "\n",
    "train_acc = np.mean(pred_train == y_train)\n",
    "test_acc = np.mean(pred_test == y_test)\n",
    "\n",
    "print(f'Acc: {train_acc:0.2f} / {test_acc:0.2f}')"
   ]
  }
 ],
 "metadata": {
  "kernelspec": {
   "display_name": "Python 3.6.9 64-bit",
   "metadata": {
    "interpreter": {
     "hash": "31f2aee4e71d21fbe5cf8b01ff0e069b9275f58929596ceb00d14d90e3e16cd6"
    }
   },
   "name": "python3"
  },
  "language_info": {
   "codemirror_mode": {
    "name": "ipython",
    "version": 3
   },
   "file_extension": ".py",
   "mimetype": "text/x-python",
   "name": "python",
   "nbconvert_exporter": "python",
   "pygments_lexer": "ipython3",
   "version": "3.6.9"
  },
  "orig_nbformat": 2
 },
 "nbformat": 4,
 "nbformat_minor": 2
}