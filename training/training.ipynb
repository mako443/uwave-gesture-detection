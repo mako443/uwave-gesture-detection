{
 "cells": [
  {
   "cell_type": "code",
   "execution_count": 1,
   "metadata": {},
   "outputs": [],
   "source": [
    "import sys\n",
    "sys.path.append('../')\n",
    "\n",
    "import os\n",
    "import os.path as osp\n",
    "import numpy as np\n",
    "import pickle\n",
    "\n",
    "from dataloading.imports import GESTURE_NAMES\n",
    "from dataloading.visualize import visualize_samples\n",
    "import dataloading.transform as T"
   ]
  },
  {
   "cell_type": "markdown",
   "metadata": {},
   "source": [
    "#### Prepare data and train the model\n",
    "We load the previously packaged data and transform it based on the hyper-parameters.\n",
    "Most importantly, we fit a polynomial to each axis of a given time series, in order to transform it to a fixed-sized vector that can be fed into the classifier."
   ]
  },
  {
   "cell_type": "code",
   "execution_count": 2,
   "metadata": {},
   "outputs": [
    {
     "name": "stderr",
     "output_type": "stream",
     "text": [
      "/home/imanox/.local/lib/python3.6/site-packages/numpy/polynomial/polynomial.py:1350: RankWarning: The fit may be poorly conditioned\n",
      "  return pu._fit(polyvander, x, y, deg, rcond, full, w)\n"
     ]
    }
   ],
   "source": [
    "NUM_INTEGRATE = 1\n",
    "NORM_VECTORS = False \n",
    "CENTER_SCALE = None # None: not at all, True: norm per axis, False: Overall\n",
    "POLY_DEGREES = 2\n",
    "AXES = [0, 1, 2]\n",
    "NORM_COEFS = False\n",
    "\n",
    "\n",
    "with open('../data/uwave/uwave.pkl', 'rb') as f:\n",
    "    data = pickle.load(f)\n",
    "\n",
    "for i in range(NUM_INTEGRATE):\n",
    "    data = T.integrate_acceleration(data)\n",
    "\n",
    "if NORM_VECTORS:\n",
    "    data = T.normalize_vectors(data)\n",
    "\n",
    "if CENTER_SCALE is not None:\n",
    "    data = T.center_scale(data, scale_per_axis=CENTER_SCALE)  \n",
    "\n",
    "for key in data:\n",
    "    for i in range(len(data[key])):\n",
    "        data[key][i] = data[key][i][:, AXES]\n",
    "\n",
    "# Fit polynomials to the time-series and aggregate the data to X and y\n",
    "data_poly = T.polyfit_timeseries(data, deg=POLY_DEGREES)\n",
    "X, y = T.aggregate_data(data_poly)\n",
    "X_train, y_train, X_test, y_test = T.random_split(X, y)\n",
    "\n",
    "if NORM_COEFS:\n",
    "    X_train, mean, std = T.normalize_X(X_train)\n",
    "    X_test, _, _ = T.normalize_X(X_test, mean=mean, std=std)"
   ]
  },
  {
   "cell_type": "markdown",
   "metadata": {},
   "source": [
    "The model is trained on the transformed data, using appropriate model hyper-parameters."
   ]
  },
  {
   "cell_type": "code",
   "execution_count": 3,
   "metadata": {},
   "outputs": [
    {
     "name": "stdout",
     "output_type": "stream",
     "text": [
      "Acc: 0.78 / 0.79\n"
     ]
    }
   ],
   "source": [
    "from models.logistic_regression import LogisticRegression\n",
    "\n",
    "classifier = LogisticRegression(lr=0.05, reg=0.001, max_iter=1000, tol=0.5)\n",
    "classifier.fit(X_train, y_train, verbose=False)\n",
    "\n",
    "pred_train = classifier.predict(X_train)\n",
    "pred_test = classifier.predict(X_test)\n",
    "\n",
    "train_acc = np.mean(pred_train == y_train)\n",
    "test_acc = np.mean(pred_test == y_test)\n",
    "print(f'Acc: {train_acc:0.2f} / {test_acc:0.2f}')    "
   ]
  },
  {
   "cell_type": "markdown",
   "metadata": {},
   "source": [
    "#### Package the model for deployment\n",
    "In this case, we can package the model with weights using pickle."
   ]
  },
  {
   "cell_type": "code",
   "execution_count": null,
   "metadata": {},
   "outputs": [],
   "source": [
    "with open('../checkpoints/LogisticRegression.pkl', 'wb') as f:\n",
    "    pickle.dump(classifier, f)"
   ]
  }
 ],
 "metadata": {
  "kernelspec": {
   "display_name": "Python 3.6.9 64-bit",
   "metadata": {
    "interpreter": {
     "hash": "31f2aee4e71d21fbe5cf8b01ff0e069b9275f58929596ceb00d14d90e3e16cd6"
    }
   },
   "name": "python3"
  },
  "language_info": {
   "codemirror_mode": {
    "name": "ipython",
    "version": 3
   },
   "file_extension": ".py",
   "mimetype": "text/x-python",
   "name": "python",
   "nbconvert_exporter": "python",
   "pygments_lexer": "ipython3",
   "version": "3.6.9"
  },
  "orig_nbformat": 2
 },
 "nbformat": 4,
 "nbformat_minor": 2
}